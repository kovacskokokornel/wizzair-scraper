{
 "cells": [
  {
   "cell_type": "code",
   "execution_count": 1,
   "metadata": {},
   "outputs": [],
   "source": [
    "import requests\n",
    "import json\n",
    "from tqdm import tqdm_notebook as tqdm\n",
    "from datetime import datetime, timedelta\n",
    "import pandas as pd\n",
    "import numpy as np\n",
    "\n",
    "headers = {\n",
    "    'authority': 'be.wizzair.com',\n",
    "    'accept': 'application/json, text/plain, */*',\n",
    "    'origin': 'https://wizzair.com',\n",
    "    'x-requestverificationtoken': 'ac8befaec3404c6f888b4e7a109b0dde',\n",
    "    'user-agent': 'Mozilla/5.0 (Windows NT 10.0; Win64; x64) AppleWebKit/537.36 (KHTML, like Gecko) Chrome/78.0.3904.108 Safari/537.36',\n",
    "    'content-type': 'application/json;charset=UTF-8',\n",
    "    'sec-fetch-site': 'same-site',\n",
    "    'sec-fetch-mode': 'cors',\n",
    "    'referer': 'https://wizzair.com/',\n",
    "    'accept-encoding': 'gzip, deflate, br',\n",
    "    'accept-language': 'en-GB,en;q=0.9,hu-HU;q=0.8,hu;q=0.7,en-US;q=0.6',\n",
    "    'cookie': 'bm_sz=92C831F5A010DB837DD22BC7D9DABE14~YAAQXLP3SPLOrqpuAQAANtdOvgXgSn1vUEpWGqs2UclxWimcnPAda+G0xCsjy9W6SE35RuJnBKeN0MRUezmUBa2H4gPRZzjzLTz+XD7XeQVR2o7tYs0d5b8XTRzCntoct3fcOXJlFP2s1ncWdaTkbUduwTijFEi8GlPGhG3D9f8/BBaY13WwYCpZq2UoSc+kcg==; ak_bmsc=91169AFD7AE4CC6730EA6FD6A7D2033348F7B35CE12C000014E5E25D6E711664~plcwWxfqBvvl+k3QcFUXlS6t93dKz/HgsYwoCZVt/dOJUOV+hQXqZpqlCmTZALcre/M3v0lkjiWHx6cw9aaflo6lXwnZDnDMhR+Xr9y88aFWNt3FMgQd7Gry3F8qzxmpa/ZOP1S6YlJOhQ9R9MK1oir3Apd3cgRlpHo6tzRpt/3EA1J0/mauvgkS9hfCEsC1kvI5TcHkDkZqo5nK7N5AK+YyJ/yvFfw6Gft4O9h0EYJ6EdgyW9POwZAYm+BFPL+Ws8yXF8mEPSuFarcYtLfyJI94H8SiGrf6wai2yfYVZCbLy/NcBPipFK5qSE4oiWB/iMsgfT5XFq5iBB3HbxQux5Hg==; _hjid=03345ec6-a6df-4a81-b074-499401290e0d; ASP.NET_SessionId=nii5vjpxmf0inpfqzjtleyub; RequestVerificationToken=ac8befaec3404c6f888b4e7a109b0dde; _gcl_au=1.1.2040786257.1575150888; _fbp=fb.1.1575150888158.621637889; _ga=GA1.2.784960775.1575150888; _gid=GA1.2.201837638.1575150888; _gat_gtag_UA_2629375_25=1; _abck=AA1A827631DBC5B8238586DBFD4434C4~0~YAAQV7P3SJrYK61uAQAADaNivgJO9rc7kHrRGgD+sgw3HRNgSZ53US+StMf6mamlox4bhiT72P6I2KOYqY6ihSrTPlnAxCI1B/eNLne66uRyQYAm3H9KbHctljIxA/NzJCQvxHRz2nYgE7ARzmknspsOiMiPzedYoX1T0k2ePfFxfvqvXJ43c7hSibkeY1LvK0uVplnw7ikbzzp6QMs4NkkIHk8K/S+sgBnVCfVzZnEi/Wm/aFg3bDIHBrZZObyMWEGIEbqXNWAMs1Afq6KtRTbG3cjJj6yDVhiE7hE95B0wUFb3Iw92JL+Gf3iMpYwUjMUnhaB/7E4=~-1~-1~-1; bm_sv=4FDC6A6E2592514D9E5DA2834B24A75B~q4P0s24xVp0oiMg8lW12ECJxvcv4eMWh07nqKPaR3q3RBXSr4CayMJi6aU6PZZbEpSXHq8P8RZ6sJpCgmNFE98pJ+lCV71tHRo+w/+oTyxCtN0J7i1DDtZSoun+zAPJRZflUFXKpDWZxLiUDU5Rd2AmwRcFonFGx4ZDXdWGuwko=',\n",
    "}"
   ]
  },
  {
   "cell_type": "code",
   "execution_count": 2,
   "metadata": {},
   "outputs": [],
   "source": [
    "data = {\"isFlightChange\":False,\n",
    "        \"isSeniorOrStudent\":False,\n",
    "        \"flightList\":[{\"departureStation\":\"BUD\",\n",
    "                       \"arrivalStation\":\"CRL\",\n",
    "                       \"departureDate\":\"2020-06-16\"}],\n",
    "        \"adultCount\":1,\n",
    "        \"childCount\":0,\n",
    "        \"infantCount\":0,\n",
    "        \"wdc\":True}"
   ]
  },
  {
   "cell_type": "code",
   "execution_count": 3,
   "metadata": {},
   "outputs": [],
   "source": [
    "base = datetime.today() + timedelta(days = 2)\n",
    "date_list = [base + timedelta(days=x) for x in range(365)]"
   ]
  },
  {
   "cell_type": "code",
   "execution_count": 5,
   "metadata": {},
   "outputs": [
    {
     "data": {
      "application/vnd.jupyter.widget-view+json": {
       "model_id": "ff10e63dfeff4fa6bd058f263dc7cab2",
       "version_major": 2,
       "version_minor": 0
      },
      "text/plain": [
       "HBox(children=(IntProgress(value=0, max=365), HTML(value='')))"
      ]
     },
     "metadata": {},
     "output_type": "display_data"
    },
    {
     "name": "stdout",
     "output_type": "stream",
     "text": [
      "\n"
     ]
    }
   ],
   "source": [
    "prices_dict = {}\n",
    "arrival_stations = [\"CRL\", \"EIN\"]\n",
    "df_list = []\n",
    "for date in tqdm(date_list):\n",
    "    data[\"flightList\"][0][\"departureDate\"] = date.strftime(\"%Y-%m-%d\")\n",
    "    for arrival_station in arrival_stations:\n",
    "        data[\"flightList\"][0][\"arrivalStation\"] = arrival_station\n",
    "        response = requests.post('https://be.wizzair.com/10.1.0/Api/search/search', headers=headers, data=json.dumps(data))\n",
    "        try:\n",
    "            resp_data = response.json()\n",
    "            prices_dict[\"normal_price\"]  = [resp_data[\"outboundFlights\"][0][\"fares\"][3][\"basePrice\"][\"amount\"]]\n",
    "            prices_dict[\"wdc_price\"] = [resp_data[\"outboundFlights\"][0][\"fares\"][0][\"basePrice\"][\"amount\"]]\n",
    "        except:\n",
    "            prices_dict[\"normal_price\"] = np.nan\n",
    "            prices_dict[\"wdc_price\"] = np.nan\n",
    "        prices_dict[\"Date\"] = [date.strftime(\"%Y-%m-%d\")]\n",
    "        prices_dict[\"Departure\"] = [\"BUD\"]\n",
    "        prices_dict[\"Destination\"] = [arrival_station]\n",
    "        df_list.append(pd.DataFrame.from_dict(prices_dict))\n"
   ]
  },
  {
   "cell_type": "code",
   "execution_count": 6,
   "metadata": {},
   "outputs": [],
   "source": [
    "final = pd.concat(df_list).reset_index(drop = True)"
   ]
  },
  {
   "cell_type": "code",
   "execution_count": 7,
   "metadata": {},
   "outputs": [
    {
     "data": {
      "text/html": [
       "<div>\n",
       "<style scoped>\n",
       "    .dataframe tbody tr th:only-of-type {\n",
       "        vertical-align: middle;\n",
       "    }\n",
       "\n",
       "    .dataframe tbody tr th {\n",
       "        vertical-align: top;\n",
       "    }\n",
       "\n",
       "    .dataframe thead th {\n",
       "        text-align: right;\n",
       "    }\n",
       "</style>\n",
       "<table border=\"1\" class=\"dataframe\">\n",
       "  <thead>\n",
       "    <tr style=\"text-align: right;\">\n",
       "      <th></th>\n",
       "      <th>normal_price</th>\n",
       "      <th>wdc_price</th>\n",
       "      <th>Date</th>\n",
       "      <th>Departure</th>\n",
       "      <th>Destination</th>\n",
       "    </tr>\n",
       "  </thead>\n",
       "  <tbody>\n",
       "    <tr>\n",
       "      <td>0</td>\n",
       "      <td>19490.0</td>\n",
       "      <td>16190.0</td>\n",
       "      <td>2019-12-03</td>\n",
       "      <td>BUD</td>\n",
       "      <td>CRL</td>\n",
       "    </tr>\n",
       "    <tr>\n",
       "      <td>1</td>\n",
       "      <td>16190.0</td>\n",
       "      <td>12990.0</td>\n",
       "      <td>2019-12-03</td>\n",
       "      <td>BUD</td>\n",
       "      <td>EIN</td>\n",
       "    </tr>\n",
       "    <tr>\n",
       "      <td>2</td>\n",
       "      <td>5690.0</td>\n",
       "      <td>3190.0</td>\n",
       "      <td>2019-12-04</td>\n",
       "      <td>BUD</td>\n",
       "      <td>CRL</td>\n",
       "    </tr>\n",
       "    <tr>\n",
       "      <td>3</td>\n",
       "      <td>7290.0</td>\n",
       "      <td>3990.0</td>\n",
       "      <td>2019-12-04</td>\n",
       "      <td>BUD</td>\n",
       "      <td>EIN</td>\n",
       "    </tr>\n",
       "    <tr>\n",
       "      <td>4</td>\n",
       "      <td>25990.0</td>\n",
       "      <td>22690.0</td>\n",
       "      <td>2019-12-05</td>\n",
       "      <td>BUD</td>\n",
       "      <td>CRL</td>\n",
       "    </tr>\n",
       "    <tr>\n",
       "      <td>...</td>\n",
       "      <td>...</td>\n",
       "      <td>...</td>\n",
       "      <td>...</td>\n",
       "      <td>...</td>\n",
       "      <td>...</td>\n",
       "    </tr>\n",
       "    <tr>\n",
       "      <td>725</td>\n",
       "      <td>NaN</td>\n",
       "      <td>NaN</td>\n",
       "      <td>2020-11-29</td>\n",
       "      <td>BUD</td>\n",
       "      <td>EIN</td>\n",
       "    </tr>\n",
       "    <tr>\n",
       "      <td>726</td>\n",
       "      <td>NaN</td>\n",
       "      <td>NaN</td>\n",
       "      <td>2020-11-30</td>\n",
       "      <td>BUD</td>\n",
       "      <td>CRL</td>\n",
       "    </tr>\n",
       "    <tr>\n",
       "      <td>727</td>\n",
       "      <td>NaN</td>\n",
       "      <td>NaN</td>\n",
       "      <td>2020-11-30</td>\n",
       "      <td>BUD</td>\n",
       "      <td>EIN</td>\n",
       "    </tr>\n",
       "    <tr>\n",
       "      <td>728</td>\n",
       "      <td>NaN</td>\n",
       "      <td>NaN</td>\n",
       "      <td>2020-12-01</td>\n",
       "      <td>BUD</td>\n",
       "      <td>CRL</td>\n",
       "    </tr>\n",
       "    <tr>\n",
       "      <td>729</td>\n",
       "      <td>NaN</td>\n",
       "      <td>NaN</td>\n",
       "      <td>2020-12-01</td>\n",
       "      <td>BUD</td>\n",
       "      <td>EIN</td>\n",
       "    </tr>\n",
       "  </tbody>\n",
       "</table>\n",
       "<p>730 rows × 5 columns</p>\n",
       "</div>"
      ],
      "text/plain": [
       "     normal_price  wdc_price        Date Departure Destination\n",
       "0         19490.0    16190.0  2019-12-03       BUD         CRL\n",
       "1         16190.0    12990.0  2019-12-03       BUD         EIN\n",
       "2          5690.0     3190.0  2019-12-04       BUD         CRL\n",
       "3          7290.0     3990.0  2019-12-04       BUD         EIN\n",
       "4         25990.0    22690.0  2019-12-05       BUD         CRL\n",
       "..            ...        ...         ...       ...         ...\n",
       "725           NaN        NaN  2020-11-29       BUD         EIN\n",
       "726           NaN        NaN  2020-11-30       BUD         CRL\n",
       "727           NaN        NaN  2020-11-30       BUD         EIN\n",
       "728           NaN        NaN  2020-12-01       BUD         CRL\n",
       "729           NaN        NaN  2020-12-01       BUD         EIN\n",
       "\n",
       "[730 rows x 5 columns]"
      ]
     },
     "execution_count": 7,
     "metadata": {},
     "output_type": "execute_result"
    }
   ],
   "source": [
    "final"
   ]
  },
  {
   "cell_type": "code",
   "execution_count": null,
   "metadata": {},
   "outputs": [],
   "source": []
  }
 ],
 "metadata": {
  "kernelspec": {
   "display_name": "Python 3",
   "language": "python",
   "name": "python3"
  },
  "language_info": {
   "codemirror_mode": {
    "name": "ipython",
    "version": 3
   },
   "file_extension": ".py",
   "mimetype": "text/x-python",
   "name": "python",
   "nbconvert_exporter": "python",
   "pygments_lexer": "ipython3",
   "version": "3.7.4"
  }
 },
 "nbformat": 4,
 "nbformat_minor": 2
}
