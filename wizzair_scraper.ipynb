{
 "cells": [
  {
   "cell_type": "markdown",
   "metadata": {},
   "source": [
    "# Individual flight approach"
   ]
  },
  {
   "cell_type": "code",
   "execution_count": 12,
   "metadata": {},
   "outputs": [],
   "source": [
    "import requests\n",
    "\n",
    "headers = {\n",
    "    'authority': 'be.wizzair.com',\n",
    "    'accept': 'application/json, text/plain, */*',\n",
    "    'origin': 'https://wizzair.com',\n",
    "    'x-requestverificationtoken': '07cfb2f963a84ac4b2a6924209304d77',\n",
    "    'user-agent': 'Mozilla/5.0 (Windows NT 10.0; Win64; x64) AppleWebKit/537.36 (KHTML, like Gecko) Chrome/78.0.3904.108 Safari/537.36',\n",
    "    'content-type': 'application/json;charset=UTF-8',\n",
    "    'sec-fetch-site': 'same-site',\n",
    "    'sec-fetch-mode': 'cors',\n",
    "    'referer': 'https://wizzair.com/',\n",
    "    'accept-encoding': 'gzip, deflate, br',\n",
    "    'accept-language': 'en-GB,en;q=0.9,hu-HU;q=0.8,hu;q=0.7,en-US;q=0.6',\n",
    "    'cookie': 'bm_sz=6A020030C69891810E40357F2D4DE30D~YAAQ3rL3SIq5TLxuAQAAXxCdwAWbC49MUl++tNzOruhbTkxq1QRwqVXpQH/PdddIjtCYgHurnLedF13He7iTNP4DE0aljJ8DPjAxNE+T1MXsw0leqkuvRuY1Gcu8QZImevpMeSofTVm4//aXwJUP96LExLnixraEZsAkjeSs+OHM92bVp+tUUD4843BfVWM7; _abck=42083D8A10BFD737B73317108419016E~0~YAAQ3rL3SJu5TLxuAQAAcRWdwALAUwIhfsgVvJnB/FypE8iZe9BidFxZRHe73C3KgG3peNR6U1KYiYzi2WHDz0y0nsas5xa973/rD9jdlrWI3oLMg0oNNq0lX3hdBIHE6atBbH3blymFcFrvgd1qBTwleEl83kKBhpOS4IZ++jWSkBpdbiyPlZpzUq/fgbToIsO2bESL+M1HNgMVettkEUL6SVKPxJcTwpoJ2YILGMTd6sJrzfvpmmHtwz/A1ky1asX1znPbTVRGznvEOy2YEfNkfHrcnzFiFdAJlXYFUCLe1Ek+m9PbNc8TsGCdnuKthwiyLZSBIQw=~-1~-1~-1; ak_bmsc=60F561E97D872E51CD8AF15AFA0FE53548F7B2DE704E00002D7CE35D8FB03567~plM3DzKt4g/EWhamf33FrUb6vNfK1fXaDjxtjpjMV1lOCdusUDcEmXGm4hffkGIGyc2ZX/HTTBojpF3a+/kPYO/X8S8pDukZS6Q1xij6nKvTxCFjgfUrOXDqk7HKbRuq/RRo6RZvdOs6U5+kmuGt+JtrT+8UH4XKELZ6getR5nRURsldS7G3LCR2xi6D27uvYcBagfqL4hma4S99O6orKND5Kf+KOZZSiZHgrmIQ6b+GKRGDkenXgDLR770D3MXqFqBq5Y4MK/4SxRFvSB0wmi3u1kCCnMkY+ZrfTHpA4qSpc1CFsJleqRhfzuPwg0n8ZhosTdJlzehit7eSBp5Pg2mw==; _hjid=5d25b846-c829-4cff-be40-5781b49bae6d; _gcl_au=1.1.2126801188.1575189569; _ga=GA1.2.1370863027.1575189570; _gid=GA1.2.1791855577.1575189570; _fbp=fb.1.1575189571756.118279262; ASP.NET_SessionId=5xeahvphrruslcy1qzklv13l; RequestVerificationToken=07cfb2f963a84ac4b2a6924209304d77; _gat_gtag_UA_2629375_25=1; bm_sv=10D3F2F41A433EE60BE47880FB3019E1~WLUCRAlnF6eEBUPS1933XOMgUpd/sSyfYGvg2UL2ynNzv+45hf7HUCBBFOjyIgHwU7XNmbIf+EPOEents5lPtEau42cd+0vl0ui1UwhOtiseYKi3G/SZm58ccGwhwpyEES3XTEb+zxtHgnqMN7eIGuphXfeOTOUWqjKlytJNoPw=',\n",
    "}"
   ]
  },
  {
   "cell_type": "code",
   "execution_count": 13,
   "metadata": {},
   "outputs": [],
   "source": [
    "data = {\"isFlightChange\":False,\n",
    "        \"isSeniorOrStudent\":False,\n",
    "        \"flightList\":[{\"departureStation\":\"BUD\",\n",
    "                       \"arrivalStation\":\"CRL\",\n",
    "                       \"departureDate\":\"2020-06-16\"}],\n",
    "        \"adultCount\":1,\n",
    "        \"childCount\":0,\n",
    "        \"infantCount\":0,\n",
    "        \"wdc\":True}"
   ]
  },
  {
   "cell_type": "code",
   "execution_count": 14,
   "metadata": {},
   "outputs": [],
   "source": [
    "base = datetime.today() + timedelta(days = 2)\n",
    "date_list = [base + timedelta(days=x) for x in range(365)]"
   ]
  },
  {
   "cell_type": "code",
   "execution_count": null,
   "metadata": {},
   "outputs": [],
   "source": []
  },
  {
   "cell_type": "code",
   "execution_count": 15,
   "metadata": {},
   "outputs": [
    {
     "data": {
      "application/vnd.jupyter.widget-view+json": {
       "model_id": "16e63fcab2954f6c9263452a08830901",
       "version_major": 2,
       "version_minor": 0
      },
      "text/plain": [
       "HBox(children=(IntProgress(value=0, max=365), HTML(value='')))"
      ]
     },
     "metadata": {},
     "output_type": "display_data"
    },
    {
     "name": "stdout",
     "output_type": "stream",
     "text": [
      "\n"
     ]
    }
   ],
   "source": [
    "prices_dict = {}\n",
    "arrival_stations = [\"CRL\", \"EIN\", \"TLV\", \"LTN\"]\n",
    "df_list = []\n",
    "for date in tqdm(date_list):\n",
    "    data[\"flightList\"][0][\"departureDate\"] = date.strftime(\"%Y-%m-%d\")\n",
    "    for arrival_station in arrival_stations:\n",
    "        data[\"flightList\"][0][\"arrivalStation\"] = arrival_station\n",
    "        response = requests.post('https://be.wizzair.com/10.1.0/Api/search/search', headers=headers, data=json.dumps(data))\n",
    "        try:\n",
    "            resp_data = response.json()\n",
    "            ## Szerintem itt az 1-2 és a 4-5 azok az árak, amik majd meg fognak jelenni, amikor elfogynak ezek.\n",
    "            prices_dict[\"normal_price\"]  = [resp_data[\"outboundFlights\"][0][\"fares\"][3][\"basePrice\"][\"amount\"]]\n",
    "            prices_dict[\"wdc_price\"] = [resp_data[\"outboundFlights\"][0][\"fares\"][0][\"basePrice\"][\"amount\"]]\n",
    "        except:\n",
    "            prices_dict[\"normal_price\"] = np.nan\n",
    "            prices_dict[\"wdc_price\"] = np.nan\n",
    "        prices_dict[\"Date\"] = [date.strftime(\"%Y-%m-%d\")]\n",
    "        prices_dict[\"Departure\"] = [\"BUD\"]\n",
    "        prices_dict[\"Destination\"] = [arrival_station]\n",
    "        df_list.append(pd.DataFrame.from_dict(prices_dict))\n"
   ]
  },
  {
   "cell_type": "code",
   "execution_count": 16,
   "metadata": {},
   "outputs": [],
   "source": [
    "final = pd.concat(df_list).reset_index(drop = True)"
   ]
  },
  {
   "cell_type": "code",
   "execution_count": 17,
   "metadata": {},
   "outputs": [
    {
     "data": {
      "text/html": [
       "<div>\n",
       "<style scoped>\n",
       "    .dataframe tbody tr th:only-of-type {\n",
       "        vertical-align: middle;\n",
       "    }\n",
       "\n",
       "    .dataframe tbody tr th {\n",
       "        vertical-align: top;\n",
       "    }\n",
       "\n",
       "    .dataframe thead th {\n",
       "        text-align: right;\n",
       "    }\n",
       "</style>\n",
       "<table border=\"1\" class=\"dataframe\">\n",
       "  <thead>\n",
       "    <tr style=\"text-align: right;\">\n",
       "      <th></th>\n",
       "      <th>normal_price</th>\n",
       "      <th>wdc_price</th>\n",
       "      <th>Date</th>\n",
       "      <th>Departure</th>\n",
       "      <th>Destination</th>\n",
       "    </tr>\n",
       "  </thead>\n",
       "  <tbody>\n",
       "    <tr>\n",
       "      <td>0</td>\n",
       "      <td>17890.0</td>\n",
       "      <td>14590.0</td>\n",
       "      <td>2019-12-03</td>\n",
       "      <td>BUD</td>\n",
       "      <td>CRL</td>\n",
       "    </tr>\n",
       "    <tr>\n",
       "      <td>1</td>\n",
       "      <td>16190.0</td>\n",
       "      <td>12990.0</td>\n",
       "      <td>2019-12-03</td>\n",
       "      <td>BUD</td>\n",
       "      <td>EIN</td>\n",
       "    </tr>\n",
       "    <tr>\n",
       "      <td>2</td>\n",
       "      <td>12990.0</td>\n",
       "      <td>9690.0</td>\n",
       "      <td>2019-12-04</td>\n",
       "      <td>BUD</td>\n",
       "      <td>CRL</td>\n",
       "    </tr>\n",
       "    <tr>\n",
       "      <td>3</td>\n",
       "      <td>16190.0</td>\n",
       "      <td>12990.0</td>\n",
       "      <td>2019-12-04</td>\n",
       "      <td>BUD</td>\n",
       "      <td>EIN</td>\n",
       "    </tr>\n",
       "    <tr>\n",
       "      <td>4</td>\n",
       "      <td>22690.0</td>\n",
       "      <td>19490.0</td>\n",
       "      <td>2019-12-05</td>\n",
       "      <td>BUD</td>\n",
       "      <td>CRL</td>\n",
       "    </tr>\n",
       "    <tr>\n",
       "      <td>...</td>\n",
       "      <td>...</td>\n",
       "      <td>...</td>\n",
       "      <td>...</td>\n",
       "      <td>...</td>\n",
       "      <td>...</td>\n",
       "    </tr>\n",
       "    <tr>\n",
       "      <td>725</td>\n",
       "      <td>NaN</td>\n",
       "      <td>NaN</td>\n",
       "      <td>2020-11-29</td>\n",
       "      <td>BUD</td>\n",
       "      <td>EIN</td>\n",
       "    </tr>\n",
       "    <tr>\n",
       "      <td>726</td>\n",
       "      <td>NaN</td>\n",
       "      <td>NaN</td>\n",
       "      <td>2020-11-30</td>\n",
       "      <td>BUD</td>\n",
       "      <td>CRL</td>\n",
       "    </tr>\n",
       "    <tr>\n",
       "      <td>727</td>\n",
       "      <td>NaN</td>\n",
       "      <td>NaN</td>\n",
       "      <td>2020-11-30</td>\n",
       "      <td>BUD</td>\n",
       "      <td>EIN</td>\n",
       "    </tr>\n",
       "    <tr>\n",
       "      <td>728</td>\n",
       "      <td>NaN</td>\n",
       "      <td>NaN</td>\n",
       "      <td>2020-12-01</td>\n",
       "      <td>BUD</td>\n",
       "      <td>CRL</td>\n",
       "    </tr>\n",
       "    <tr>\n",
       "      <td>729</td>\n",
       "      <td>NaN</td>\n",
       "      <td>NaN</td>\n",
       "      <td>2020-12-01</td>\n",
       "      <td>BUD</td>\n",
       "      <td>EIN</td>\n",
       "    </tr>\n",
       "  </tbody>\n",
       "</table>\n",
       "<p>730 rows × 5 columns</p>\n",
       "</div>"
      ],
      "text/plain": [
       "     normal_price  wdc_price        Date Departure Destination\n",
       "0         17890.0    14590.0  2019-12-03       BUD         CRL\n",
       "1         16190.0    12990.0  2019-12-03       BUD         EIN\n",
       "2         12990.0     9690.0  2019-12-04       BUD         CRL\n",
       "3         16190.0    12990.0  2019-12-04       BUD         EIN\n",
       "4         22690.0    19490.0  2019-12-05       BUD         CRL\n",
       "..            ...        ...         ...       ...         ...\n",
       "725           NaN        NaN  2020-11-29       BUD         EIN\n",
       "726           NaN        NaN  2020-11-30       BUD         CRL\n",
       "727           NaN        NaN  2020-11-30       BUD         EIN\n",
       "728           NaN        NaN  2020-12-01       BUD         CRL\n",
       "729           NaN        NaN  2020-12-01       BUD         EIN\n",
       "\n",
       "[730 rows x 5 columns]"
      ]
     },
     "execution_count": 17,
     "metadata": {},
     "output_type": "execute_result"
    }
   ],
   "source": [
    "final"
   ]
  },
  {
   "cell_type": "code",
   "execution_count": 9,
   "metadata": {},
   "outputs": [
    {
     "data": {
      "text/plain": [
       "{'isFlightChange': False,\n",
       " 'isSeniorOrStudent': False,\n",
       " 'flightList': [{'departureStation': 'BUD',\n",
       "   'arrivalStation': 'CRL',\n",
       "   'departureDate': '2019-12-03'}],\n",
       " 'adultCount': 1,\n",
       " 'childCount': 0,\n",
       " 'infantCount': 0,\n",
       " 'wdc': True}"
      ]
     },
     "execution_count": 9,
     "metadata": {},
     "output_type": "execute_result"
    }
   ],
   "source": [
    "data[\"flightList\"][0][\"arrivalStation\"] = \"LTN\"\n",
    "data[\"flightList\"][0][\"departureDate\"] = \"2019-12-24\"\n",
    "response = requests.post('https://be.wizzair.com/10.1.0/Api/search/search', headers=headers, data=json.dumps(data))\n",
    "resp_data = response.json()"
   ]
  },
  {
   "cell_type": "code",
   "execution_count": null,
   "metadata": {},
   "outputs": [],
   "source": []
  },
  {
   "cell_type": "code",
   "execution_count": null,
   "metadata": {},
   "outputs": [],
   "source": []
  },
  {
   "cell_type": "code",
   "execution_count": null,
   "metadata": {},
   "outputs": [],
   "source": []
  },
  {
   "cell_type": "code",
   "execution_count": null,
   "metadata": {},
   "outputs": [],
   "source": []
  },
  {
   "cell_type": "markdown",
   "metadata": {},
   "source": [
    "# Timetable approach"
   ]
  },
  {
   "cell_type": "code",
   "execution_count": 3,
   "metadata": {},
   "outputs": [],
   "source": [
    "import requests\n",
    "from datetime import datetime, timedelta\n",
    "import pandas as pd\n",
    "from tqdm import tqdm_notebook as tqdm\n",
    "import json"
   ]
  },
  {
   "cell_type": "code",
   "execution_count": 4,
   "metadata": {},
   "outputs": [],
   "source": [
    "headers = {\n",
    "    'authority': 'be.wizzair.com',\n",
    "    'accept': 'application/json, text/plain, */*',\n",
    "    'origin': 'https://wizzair.com',\n",
    "    'user-agent': 'Mozilla/5.0 (Windows NT 10.0; Win64; x64) AppleWebKit/537.36 (KHTML, like Gecko) Chrome/78.0.3904.108 Safari/537.36',\n",
    "    'content-type': 'application/json;charset=UTF-8',\n",
    "    'sec-fetch-site': 'same-site',\n",
    "    'sec-fetch-mode': 'cors',\n",
    "    'referer': 'https://wizzair.com/en-gb/flights/timetable',\n",
    "    'accept-encoding': 'gzip, deflate, br',\n",
    "    'accept-language': 'en-GB,en;q=0.9,hu-HU;q=0.8,hu;q=0.7,en-US;q=0.6'}\n",
    "\n",
    "data = {\"flightList\":[{\"departureStation\":\"BUD\",\n",
    "                       \"arrivalStation\":\"\",\n",
    "                       \"from\":\"\",\n",
    "                       \"to\":\"\"},\n",
    "                      {\"departureStation\":\"\",\n",
    "                       \"arrivalStation\":\"BUD\",\n",
    "                       \"from\":\"\",\n",
    "                       \"to\":\"\"}],\"priceType\":\"\",\"adultCount\":1,\"childCount\":0,\"infantCount\":0}\n",
    "##priceType = \"wdc\"\n",
    "#response = requests.post('https://be.wizzair.com/10.1.0/Api/search/timetable', headers=headers, data=json.dumps(data))"
   ]
  },
  {
   "cell_type": "code",
   "execution_count": 5,
   "metadata": {},
   "outputs": [],
   "source": [
    "def alter_price(price_type, flights):\n",
    "    if price_type == \"wdc\":\n",
    "        [flight.update({\"priceType\": \"wdc\"}) for flight in flights]\n",
    "    else:\n",
    "        [flight.update({\"priceType\": \"regular\"}) for flight in flights]\n",
    "    return flights"
   ]
  },
  {
   "cell_type": "code",
   "execution_count": 6,
   "metadata": {},
   "outputs": [],
   "source": [
    "destinations = [\"CRL\", \n",
    "                \"EIN\", \n",
    "                \"TLV\", \n",
    "                \"LTN\", \n",
    "                \"TIA\", \n",
    "                \"GYD\", \n",
    "                \"BRU\", \n",
    "                \"SJJ\",\n",
    "                \"BOJ\",\n",
    "                \"SOF\",\n",
    "                \"LCA\",\n",
    "                \"BOD\",\n",
    "                \"NCE\",\n",
    "               \"KUT\",\n",
    "               \"SXF\",\n",
    "               \"DTM\",\n",
    "               \"FRA\",\n",
    "               \"HAJ\",\n",
    "               \"ATH\",\n",
    "               \"CFU\",\n",
    "               \"HER\",\n",
    "               \"RHO\",\n",
    "               \"SKG\",\n",
    "               \"ZTH\",\n",
    "               \"KEF\",\n",
    "               \"ETM\",\n",
    "               \"AHO\",\n",
    "               \"BRI\",\n",
    "               \"BLQ\",\n",
    "               \"CTA\",\n",
    "               \"MXP\",\n",
    "               \"NAP\",\n",
    "               \"FCO\",\n",
    "               \"TSE\",\n",
    "               \"PRN\",\n",
    "               \"MLA\",\n",
    "               \"TGD\",\n",
    "               \"SKP\",\n",
    "               \"OSL\",\n",
    "               \"WAW\",\n",
    "               \"FAO\",\n",
    "               \"LIS\",\n",
    "               \"OPO\",\n",
    "               \"TGM\",\n",
    "               \"KZN\",\n",
    "               \"VKO\",\n",
    "               \"LED\",\n",
    "               \"ALC\",\n",
    "               \"BCN\",\n",
    "               \"CDT\",\n",
    "               \"IBZ\",\n",
    "               \"MAD\",\n",
    "               \"AGP\",\n",
    "               \"PMI\",\n",
    "               \"TFS\",\n",
    "               \"GOT\",\n",
    "               \"MMX\",\n",
    "               \"NYO\",\n",
    "               \"BSL\",\n",
    "               \"HRK\",\n",
    "               \"IEV\",\n",
    "               \"LWO\",\n",
    "               \"ODS\",\n",
    "               \"OZH\",\n",
    "               \"DWC\",\n",
    "               \"BHX\",\n",
    "               \"DSA\",\n",
    "               \"EDI\",\n",
    "               \"GLA\",\n",
    "               \"LPL\",\n",
    "               \"LGW\"]"
   ]
  },
  {
   "cell_type": "code",
   "execution_count": 10,
   "metadata": {
    "scrolled": true
   },
   "outputs": [
    {
     "data": {
      "application/vnd.jupyter.widget-view+json": {
       "model_id": "f173a1c967bd46d3b93593d2f561eddb",
       "version_major": 2,
       "version_minor": 0
      },
      "text/plain": [
       "HBox(children=(IntProgress(value=0, max=71), HTML(value='')))"
      ]
     },
     "metadata": {},
     "output_type": "display_data"
    },
    {
     "name": "stdout",
     "output_type": "stream",
     "text": [
      "\n"
     ]
    },
    {
     "data": {
      "application/vnd.jupyter.widget-view+json": {
       "model_id": "bdf08e8ddd334650b1767454605fd259",
       "version_major": 2,
       "version_minor": 0
      },
      "text/plain": [
       "HBox(children=(IntProgress(value=0, max=71), HTML(value='')))"
      ]
     },
     "metadata": {},
     "output_type": "display_data"
    },
    {
     "name": "stdout",
     "output_type": "stream",
     "text": [
      "\n"
     ]
    },
    {
     "data": {
      "application/vnd.jupyter.widget-view+json": {
       "model_id": "4350aa65c19b4edaa3676581ae17f32d",
       "version_major": 2,
       "version_minor": 0
      },
      "text/plain": [
       "HBox(children=(IntProgress(value=0, max=71), HTML(value='')))"
      ]
     },
     "metadata": {},
     "output_type": "display_data"
    },
    {
     "name": "stdout",
     "output_type": "stream",
     "text": [
      "\n"
     ]
    },
    {
     "data": {
      "application/vnd.jupyter.widget-view+json": {
       "model_id": "2b264adb3048435f8f79c37d1a98a87e",
       "version_major": 2,
       "version_minor": 0
      },
      "text/plain": [
       "HBox(children=(IntProgress(value=0, max=71), HTML(value='')))"
      ]
     },
     "metadata": {},
     "output_type": "display_data"
    },
    {
     "name": "stdout",
     "output_type": "stream",
     "text": [
      "\n"
     ]
    },
    {
     "data": {
      "application/vnd.jupyter.widget-view+json": {
       "model_id": "a0c7a5fff07c4b05bb6d8fb71c5c2e81",
       "version_major": 2,
       "version_minor": 0
      },
      "text/plain": [
       "HBox(children=(IntProgress(value=0, max=71), HTML(value='')))"
      ]
     },
     "metadata": {},
     "output_type": "display_data"
    },
    {
     "name": "stdout",
     "output_type": "stream",
     "text": [
      "\n"
     ]
    },
    {
     "data": {
      "application/vnd.jupyter.widget-view+json": {
       "model_id": "fa00b7f47ca24bfd8b842e315b43255e",
       "version_major": 2,
       "version_minor": 0
      },
      "text/plain": [
       "HBox(children=(IntProgress(value=0, max=71), HTML(value='')))"
      ]
     },
     "metadata": {},
     "output_type": "display_data"
    },
    {
     "name": "stdout",
     "output_type": "stream",
     "text": [
      "\n"
     ]
    },
    {
     "data": {
      "application/vnd.jupyter.widget-view+json": {
       "model_id": "99836be6df784b48a6cd9b729213e59d",
       "version_major": 2,
       "version_minor": 0
      },
      "text/plain": [
       "HBox(children=(IntProgress(value=0, max=71), HTML(value='')))"
      ]
     },
     "metadata": {},
     "output_type": "display_data"
    },
    {
     "name": "stdout",
     "output_type": "stream",
     "text": [
      "\n"
     ]
    },
    {
     "data": {
      "application/vnd.jupyter.widget-view+json": {
       "model_id": "94ac4c2936024e5db25fa40a021ce146",
       "version_major": 2,
       "version_minor": 0
      },
      "text/plain": [
       "HBox(children=(IntProgress(value=0, max=71), HTML(value='')))"
      ]
     },
     "metadata": {},
     "output_type": "display_data"
    },
    {
     "name": "stdout",
     "output_type": "stream",
     "text": [
      "\n"
     ]
    },
    {
     "data": {
      "application/vnd.jupyter.widget-view+json": {
       "model_id": "6cae9ec68eba4f858713659480877c84",
       "version_major": 2,
       "version_minor": 0
      },
      "text/plain": [
       "HBox(children=(IntProgress(value=0, max=71), HTML(value='')))"
      ]
     },
     "metadata": {},
     "output_type": "display_data"
    },
    {
     "name": "stdout",
     "output_type": "stream",
     "text": [
      "\n"
     ]
    },
    {
     "data": {
      "application/vnd.jupyter.widget-view+json": {
       "model_id": "ec75b82a218548a4864e5c46133a8660",
       "version_major": 2,
       "version_minor": 0
      },
      "text/plain": [
       "HBox(children=(IntProgress(value=0, max=71), HTML(value='')))"
      ]
     },
     "metadata": {},
     "output_type": "display_data"
    },
    {
     "name": "stdout",
     "output_type": "stream",
     "text": [
      "\n"
     ]
    },
    {
     "data": {
      "application/vnd.jupyter.widget-view+json": {
       "model_id": "fb131f916a6e44f8acebd103e60f7c06",
       "version_major": 2,
       "version_minor": 0
      },
      "text/plain": [
       "HBox(children=(IntProgress(value=0, max=71), HTML(value='')))"
      ]
     },
     "metadata": {},
     "output_type": "display_data"
    },
    {
     "name": "stdout",
     "output_type": "stream",
     "text": [
      "\n"
     ]
    },
    {
     "data": {
      "application/vnd.jupyter.widget-view+json": {
       "model_id": "ae9898c58e65491382b2664ef7483879",
       "version_major": 2,
       "version_minor": 0
      },
      "text/plain": [
       "HBox(children=(IntProgress(value=0, max=71), HTML(value='')))"
      ]
     },
     "metadata": {},
     "output_type": "display_data"
    },
    {
     "name": "stdout",
     "output_type": "stream",
     "text": [
      "\n"
     ]
    },
    {
     "data": {
      "application/vnd.jupyter.widget-view+json": {
       "model_id": "fab65be0fbf64cf5927a4c5456e849bb",
       "version_major": 2,
       "version_minor": 0
      },
      "text/plain": [
       "HBox(children=(IntProgress(value=0, max=71), HTML(value='')))"
      ]
     },
     "metadata": {},
     "output_type": "display_data"
    },
    {
     "name": "stdout",
     "output_type": "stream",
     "text": [
      "\n"
     ]
    },
    {
     "data": {
      "application/vnd.jupyter.widget-view+json": {
       "model_id": "258890604ab14424ade8a284899b9f5e",
       "version_major": 2,
       "version_minor": 0
      },
      "text/plain": [
       "HBox(children=(IntProgress(value=0, max=71), HTML(value='')))"
      ]
     },
     "metadata": {},
     "output_type": "display_data"
    },
    {
     "name": "stdout",
     "output_type": "stream",
     "text": [
      "\n"
     ]
    },
    {
     "data": {
      "application/vnd.jupyter.widget-view+json": {
       "model_id": "48c4889ef1e34c7d88037b867cdc1e60",
       "version_major": 2,
       "version_minor": 0
      },
      "text/plain": [
       "HBox(children=(IntProgress(value=0, max=71), HTML(value='')))"
      ]
     },
     "metadata": {},
     "output_type": "display_data"
    },
    {
     "name": "stdout",
     "output_type": "stream",
     "text": [
      "\n"
     ]
    },
    {
     "data": {
      "application/vnd.jupyter.widget-view+json": {
       "model_id": "69f3ee43e789421a8a3cab45eaab1fe8",
       "version_major": 2,
       "version_minor": 0
      },
      "text/plain": [
       "HBox(children=(IntProgress(value=0, max=71), HTML(value='')))"
      ]
     },
     "metadata": {},
     "output_type": "display_data"
    },
    {
     "name": "stdout",
     "output_type": "stream",
     "text": [
      "\n"
     ]
    },
    {
     "data": {
      "application/vnd.jupyter.widget-view+json": {
       "model_id": "2b31c1611e80499b873923f5f303dd22",
       "version_major": 2,
       "version_minor": 0
      },
      "text/plain": [
       "HBox(children=(IntProgress(value=0, max=71), HTML(value='')))"
      ]
     },
     "metadata": {},
     "output_type": "display_data"
    },
    {
     "name": "stdout",
     "output_type": "stream",
     "text": [
      "\n"
     ]
    },
    {
     "data": {
      "application/vnd.jupyter.widget-view+json": {
       "model_id": "45cf46f331b9414287a5471d66128100",
       "version_major": 2,
       "version_minor": 0
      },
      "text/plain": [
       "HBox(children=(IntProgress(value=0, max=71), HTML(value='')))"
      ]
     },
     "metadata": {},
     "output_type": "display_data"
    },
    {
     "name": "stdout",
     "output_type": "stream",
     "text": [
      "\n"
     ]
    },
    {
     "data": {
      "application/vnd.jupyter.widget-view+json": {
       "model_id": "fcf01e3c32b647c486b667404a021756",
       "version_major": 2,
       "version_minor": 0
      },
      "text/plain": [
       "HBox(children=(IntProgress(value=0, max=71), HTML(value='')))"
      ]
     },
     "metadata": {},
     "output_type": "display_data"
    },
    {
     "name": "stdout",
     "output_type": "stream",
     "text": [
      "\n"
     ]
    },
    {
     "data": {
      "application/vnd.jupyter.widget-view+json": {
       "model_id": "4e9140fb46a44c4e9e10d0e11853c9cd",
       "version_major": 2,
       "version_minor": 0
      },
      "text/plain": [
       "HBox(children=(IntProgress(value=0, max=71), HTML(value='')))"
      ]
     },
     "metadata": {},
     "output_type": "display_data"
    },
    {
     "name": "stdout",
     "output_type": "stream",
     "text": [
      "\n"
     ]
    },
    {
     "data": {
      "application/vnd.jupyter.widget-view+json": {
       "model_id": "43c2d4b13a5b4cab90069b0f0525fe41",
       "version_major": 2,
       "version_minor": 0
      },
      "text/plain": [
       "HBox(children=(IntProgress(value=0, max=71), HTML(value='')))"
      ]
     },
     "metadata": {},
     "output_type": "display_data"
    },
    {
     "name": "stdout",
     "output_type": "stream",
     "text": [
      "\n"
     ]
    },
    {
     "data": {
      "application/vnd.jupyter.widget-view+json": {
       "model_id": "24124a74108644b7b656b9154807fccb",
       "version_major": 2,
       "version_minor": 0
      },
      "text/plain": [
       "HBox(children=(IntProgress(value=0, max=71), HTML(value='')))"
      ]
     },
     "metadata": {},
     "output_type": "display_data"
    },
    {
     "name": "stdout",
     "output_type": "stream",
     "text": [
      "\n"
     ]
    },
    {
     "data": {
      "application/vnd.jupyter.widget-view+json": {
       "model_id": "a7828bb258bc439ca1528cb6d66a253c",
       "version_major": 2,
       "version_minor": 0
      },
      "text/plain": [
       "HBox(children=(IntProgress(value=0, max=71), HTML(value='')))"
      ]
     },
     "metadata": {},
     "output_type": "display_data"
    },
    {
     "name": "stdout",
     "output_type": "stream",
     "text": [
      "\n"
     ]
    },
    {
     "data": {
      "application/vnd.jupyter.widget-view+json": {
       "model_id": "2b159bcc09b6434c82e699a1bc391851",
       "version_major": 2,
       "version_minor": 0
      },
      "text/plain": [
       "HBox(children=(IntProgress(value=0, max=71), HTML(value='')))"
      ]
     },
     "metadata": {},
     "output_type": "display_data"
    },
    {
     "name": "stdout",
     "output_type": "stream",
     "text": [
      "\n"
     ]
    }
   ],
   "source": [
    "data_list = []\n",
    "base = datetime.today()\n",
    "for period in range(12):\n",
    "    data[\"flightList\"][0][\"from\"] = (base + timedelta(days = period * 42)).strftime(\"%Y-%m-%d\")\n",
    "    data[\"flightList\"][1][\"from\"] = (base + timedelta(days = period * 42)).strftime(\"%Y-%m-%d\")\n",
    "    \n",
    "    data[\"flightList\"][0][\"to\"] = (base + timedelta(days = (period + 1) * 42)).strftime(\"%Y-%m-%d\")\n",
    "    data[\"flightList\"][1][\"to\"] = (base + timedelta(days = (period + 1) * 42)).strftime(\"%Y-%m-%d\")\n",
    "    \n",
    "    for price_type in [\"regular\", \"wdc\"]:\n",
    "        data[\"priceType\"] = price_type\n",
    "        for destination in tqdm(destinations):\n",
    "            data[\"flightList\"][0][\"arrivalStation\"] = destination\n",
    "            data[\"flightList\"][1][\"departureStation\"] = destination\n",
    "            \n",
    "            response = requests.post('https://be.wizzair.com/10.1.0/Api/search/timetable', headers=headers, data=json.dumps(data))\n",
    "            try:\n",
    "                data_list.append(alter_price(price_type, response.json()[\"outboundFlights\"]))\n",
    "            except:\n",
    "                print(data)\n",
    "            try:\n",
    "                data_list.append(alter_price(price_type, response.json()[\"returnFlights\"]))\n",
    "            except:\n",
    "                print(data)"
   ]
  },
  {
   "cell_type": "code",
   "execution_count": 11,
   "metadata": {},
   "outputs": [],
   "source": [
    "flat_list = [item for sublist in data_list for item in sublist]"
   ]
  },
  {
   "cell_type": "code",
   "execution_count": 12,
   "metadata": {
    "scrolled": true
   },
   "outputs": [
    {
     "data": {
      "text/html": [
       "<div>\n",
       "<style scoped>\n",
       "    .dataframe tbody tr th:only-of-type {\n",
       "        vertical-align: middle;\n",
       "    }\n",
       "\n",
       "    .dataframe tbody tr th {\n",
       "        vertical-align: top;\n",
       "    }\n",
       "\n",
       "    .dataframe thead th {\n",
       "        text-align: right;\n",
       "    }\n",
       "</style>\n",
       "<table border=\"1\" class=\"dataframe\">\n",
       "  <thead>\n",
       "    <tr style=\"text-align: right;\">\n",
       "      <th></th>\n",
       "      <th>departureStation</th>\n",
       "      <th>arrivalStation</th>\n",
       "      <th>departureDate</th>\n",
       "      <th>price</th>\n",
       "      <th>priceType</th>\n",
       "      <th>departureDates</th>\n",
       "      <th>classOfService</th>\n",
       "      <th>hasMacFlight</th>\n",
       "    </tr>\n",
       "  </thead>\n",
       "  <tbody>\n",
       "    <tr>\n",
       "      <td>0</td>\n",
       "      <td>BUD</td>\n",
       "      <td>CRL</td>\n",
       "      <td>2019-12-01T00:00:00</td>\n",
       "      <td>{'amount': 45490.0, 'currencyCode': 'HUF'}</td>\n",
       "      <td>regular</td>\n",
       "      <td>[2019-12-01T18:05:00]</td>\n",
       "      <td>GF</td>\n",
       "      <td>False</td>\n",
       "    </tr>\n",
       "    <tr>\n",
       "      <td>1</td>\n",
       "      <td>BUD</td>\n",
       "      <td>CRL</td>\n",
       "      <td>2019-12-02T00:00:00</td>\n",
       "      <td>{'amount': 29190.0, 'currencyCode': 'HUF'}</td>\n",
       "      <td>regular</td>\n",
       "      <td>[2019-12-02T18:05:00]</td>\n",
       "      <td>I</td>\n",
       "      <td>False</td>\n",
       "    </tr>\n",
       "    <tr>\n",
       "      <td>2</td>\n",
       "      <td>BUD</td>\n",
       "      <td>CRL</td>\n",
       "      <td>2019-12-03T00:00:00</td>\n",
       "      <td>{'amount': 17890.0, 'currencyCode': 'HUF'}</td>\n",
       "      <td>regular</td>\n",
       "      <td>[2019-12-03T18:35:00]</td>\n",
       "      <td>KL</td>\n",
       "      <td>False</td>\n",
       "    </tr>\n",
       "    <tr>\n",
       "      <td>3</td>\n",
       "      <td>BUD</td>\n",
       "      <td>CRL</td>\n",
       "      <td>2019-12-04T00:00:00</td>\n",
       "      <td>{'amount': 12990.0, 'currencyCode': 'HUF'}</td>\n",
       "      <td>regular</td>\n",
       "      <td>[2019-12-04T06:15:00]</td>\n",
       "      <td>B</td>\n",
       "      <td>False</td>\n",
       "    </tr>\n",
       "    <tr>\n",
       "      <td>4</td>\n",
       "      <td>BUD</td>\n",
       "      <td>CRL</td>\n",
       "      <td>2019-12-05T00:00:00</td>\n",
       "      <td>{'amount': 22690.0, 'currencyCode': 'HUF'}</td>\n",
       "      <td>regular</td>\n",
       "      <td>[2019-12-05T18:20:00]</td>\n",
       "      <td>J</td>\n",
       "      <td>False</td>\n",
       "    </tr>\n",
       "    <tr>\n",
       "      <td>...</td>\n",
       "      <td>...</td>\n",
       "      <td>...</td>\n",
       "      <td>...</td>\n",
       "      <td>...</td>\n",
       "      <td>...</td>\n",
       "      <td>...</td>\n",
       "      <td>...</td>\n",
       "      <td>...</td>\n",
       "    </tr>\n",
       "    <tr>\n",
       "      <td>44257</td>\n",
       "      <td>LTN</td>\n",
       "      <td>BUD</td>\n",
       "      <td>2020-10-20T00:00:00</td>\n",
       "      <td>{'amount': 25990.0, 'currencyCode': 'HUF'}</td>\n",
       "      <td>wdc</td>\n",
       "      <td>[2020-10-20T08:40:00, 2020-10-20T10:50:00, 202...</td>\n",
       "      <td>KW</td>\n",
       "      <td>True</td>\n",
       "    </tr>\n",
       "    <tr>\n",
       "      <td>44258</td>\n",
       "      <td>LTN</td>\n",
       "      <td>BUD</td>\n",
       "      <td>2020-10-21T00:00:00</td>\n",
       "      <td>{'amount': 19490.0, 'currencyCode': 'HUF'}</td>\n",
       "      <td>wdc</td>\n",
       "      <td>[2020-10-21T08:40:00, 2020-10-21T15:25:00, 202...</td>\n",
       "      <td>LW</td>\n",
       "      <td>True</td>\n",
       "    </tr>\n",
       "    <tr>\n",
       "      <td>44259</td>\n",
       "      <td>LTN</td>\n",
       "      <td>BUD</td>\n",
       "      <td>2020-10-22T00:00:00</td>\n",
       "      <td>{'amount': 19490.0, 'currencyCode': 'HUF'}</td>\n",
       "      <td>wdc</td>\n",
       "      <td>[2020-10-22T08:40:00, 2020-10-22T15:25:00, 202...</td>\n",
       "      <td>LW</td>\n",
       "      <td>True</td>\n",
       "    </tr>\n",
       "    <tr>\n",
       "      <td>44260</td>\n",
       "      <td>LTN</td>\n",
       "      <td>BUD</td>\n",
       "      <td>2020-10-23T00:00:00</td>\n",
       "      <td>{'amount': 19490.0, 'currencyCode': 'HUF'}</td>\n",
       "      <td>wdc</td>\n",
       "      <td>[2020-10-23T08:40:00, 2020-10-23T10:50:00, 202...</td>\n",
       "      <td>LW</td>\n",
       "      <td>True</td>\n",
       "    </tr>\n",
       "    <tr>\n",
       "      <td>44261</td>\n",
       "      <td>LTN</td>\n",
       "      <td>BUD</td>\n",
       "      <td>2020-10-24T00:00:00</td>\n",
       "      <td>{'amount': 16190.0, 'currencyCode': 'HUF'}</td>\n",
       "      <td>wdc</td>\n",
       "      <td>[2020-10-24T08:40:00, 2020-10-24T10:50:00, 202...</td>\n",
       "      <td>BW</td>\n",
       "      <td>True</td>\n",
       "    </tr>\n",
       "  </tbody>\n",
       "</table>\n",
       "<p>44262 rows × 8 columns</p>\n",
       "</div>"
      ],
      "text/plain": [
       "      departureStation arrivalStation        departureDate  \\\n",
       "0                  BUD            CRL  2019-12-01T00:00:00   \n",
       "1                  BUD            CRL  2019-12-02T00:00:00   \n",
       "2                  BUD            CRL  2019-12-03T00:00:00   \n",
       "3                  BUD            CRL  2019-12-04T00:00:00   \n",
       "4                  BUD            CRL  2019-12-05T00:00:00   \n",
       "...                ...            ...                  ...   \n",
       "44257              LTN            BUD  2020-10-20T00:00:00   \n",
       "44258              LTN            BUD  2020-10-21T00:00:00   \n",
       "44259              LTN            BUD  2020-10-22T00:00:00   \n",
       "44260              LTN            BUD  2020-10-23T00:00:00   \n",
       "44261              LTN            BUD  2020-10-24T00:00:00   \n",
       "\n",
       "                                            price priceType  \\\n",
       "0      {'amount': 45490.0, 'currencyCode': 'HUF'}   regular   \n",
       "1      {'amount': 29190.0, 'currencyCode': 'HUF'}   regular   \n",
       "2      {'amount': 17890.0, 'currencyCode': 'HUF'}   regular   \n",
       "3      {'amount': 12990.0, 'currencyCode': 'HUF'}   regular   \n",
       "4      {'amount': 22690.0, 'currencyCode': 'HUF'}   regular   \n",
       "...                                           ...       ...   \n",
       "44257  {'amount': 25990.0, 'currencyCode': 'HUF'}       wdc   \n",
       "44258  {'amount': 19490.0, 'currencyCode': 'HUF'}       wdc   \n",
       "44259  {'amount': 19490.0, 'currencyCode': 'HUF'}       wdc   \n",
       "44260  {'amount': 19490.0, 'currencyCode': 'HUF'}       wdc   \n",
       "44261  {'amount': 16190.0, 'currencyCode': 'HUF'}       wdc   \n",
       "\n",
       "                                          departureDates classOfService  \\\n",
       "0                                  [2019-12-01T18:05:00]             GF   \n",
       "1                                  [2019-12-02T18:05:00]              I   \n",
       "2                                  [2019-12-03T18:35:00]             KL   \n",
       "3                                  [2019-12-04T06:15:00]              B   \n",
       "4                                  [2019-12-05T18:20:00]              J   \n",
       "...                                                  ...            ...   \n",
       "44257  [2020-10-20T08:40:00, 2020-10-20T10:50:00, 202...             KW   \n",
       "44258  [2020-10-21T08:40:00, 2020-10-21T15:25:00, 202...             LW   \n",
       "44259  [2020-10-22T08:40:00, 2020-10-22T15:25:00, 202...             LW   \n",
       "44260  [2020-10-23T08:40:00, 2020-10-23T10:50:00, 202...             LW   \n",
       "44261  [2020-10-24T08:40:00, 2020-10-24T10:50:00, 202...             BW   \n",
       "\n",
       "       hasMacFlight  \n",
       "0             False  \n",
       "1             False  \n",
       "2             False  \n",
       "3             False  \n",
       "4             False  \n",
       "...             ...  \n",
       "44257          True  \n",
       "44258          True  \n",
       "44259          True  \n",
       "44260          True  \n",
       "44261          True  \n",
       "\n",
       "[44262 rows x 8 columns]"
      ]
     },
     "execution_count": 12,
     "metadata": {},
     "output_type": "execute_result"
    }
   ],
   "source": [
    "df = pd.DataFrame(flat_list)\n",
    "df"
   ]
  },
  {
   "cell_type": "code",
   "execution_count": 18,
   "metadata": {},
   "outputs": [
    {
     "data": {
      "text/plain": [
       "44262"
      ]
     },
     "execution_count": 18,
     "metadata": {},
     "output_type": "execute_result"
    }
   ],
   "source": [
    "len(df)"
   ]
  },
  {
   "cell_type": "code",
   "execution_count": 15,
   "metadata": {},
   "outputs": [],
   "source": [
    "cond_1 = df[\"departureDate\"] == \"2020-03-01T00:00:00\"\n",
    "cond_2 = df[\"priceType\"] == \"regular\"\n",
    "cond_3 = df[\"departureStation\"] == \"TLV\""
   ]
  },
  {
   "cell_type": "code",
   "execution_count": 17,
   "metadata": {},
   "outputs": [
    {
     "data": {
      "text/plain": [
       "22131"
      ]
     },
     "execution_count": 17,
     "metadata": {},
     "output_type": "execute_result"
    }
   ],
   "source": [
    "len(df[cond_2])"
   ]
  },
  {
   "cell_type": "code",
   "execution_count": 19,
   "metadata": {},
   "outputs": [],
   "source": [
    "df.to_pickle(\"./wizz_19_12_01.pkl\")"
   ]
  },
  {
   "cell_type": "code",
   "execution_count": null,
   "metadata": {},
   "outputs": [],
   "source": []
  }
 ],
 "metadata": {
  "kernelspec": {
   "display_name": "Python 3",
   "language": "python",
   "name": "python3"
  },
  "language_info": {
   "codemirror_mode": {
    "name": "ipython",
    "version": 3
   },
   "file_extension": ".py",
   "mimetype": "text/x-python",
   "name": "python",
   "nbconvert_exporter": "python",
   "pygments_lexer": "ipython3",
   "version": "3.7.4"
  }
 },
 "nbformat": 4,
 "nbformat_minor": 2
}
